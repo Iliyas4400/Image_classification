{
 "cells": [
  {
   "cell_type": "code",
   "execution_count": 16,
   "metadata": {
    "executionInfo": {
     "elapsed": 382,
     "status": "ok",
     "timestamp": 1625920516705,
     "user": {
      "displayName": "Iliyas Indikar",
      "photoUrl": "https://lh3.googleusercontent.com/a-/AOh14GiE1Qaa6QH2wvA_707yNe7zJEHMYQy94mB_vRQKMQ=s64",
      "userId": "12566401631450445308"
     },
     "user_tz": -330
    },
    "id": "SItqnC2DKsLZ"
   },
   "outputs": [],
   "source": [
    "import os\n",
    "import numpy as np\n",
    "import pandas as pd\n",
    "import glob\n",
    "import shutil\n",
    "import math"
   ]
  },
  {
   "cell_type": "code",
   "execution_count": 17,
   "metadata": {
    "colab": {
     "base_uri": "https://localhost:8080/"
    },
    "executionInfo": {
     "elapsed": 7,
     "status": "ok",
     "timestamp": 1625920518236,
     "user": {
      "displayName": "Iliyas Indikar",
      "photoUrl": "https://lh3.googleusercontent.com/a-/AOh14GiE1Qaa6QH2wvA_707yNe7zJEHMYQy94mB_vRQKMQ=s64",
      "userId": "12566401631450445308"
     },
     "user_tz": -330
    },
    "id": "EXafODgrMKUn",
    "outputId": "6178828a-d4e3-4e3c-c6dc-d22b1502a3a9"
   },
   "outputs": [
    {
     "name": "stdout",
     "output_type": "stream",
     "text": [
      "Drive already mounted at /content/drive; to attempt to forcibly remount, call drive.mount(\"/content/drive\", force_remount=True).\n"
     ]
    }
   ],
   "source": [
    "from google.colab import drive\n",
    "drive.mount('/content/drive')"
   ]
  },
  {
   "cell_type": "code",
   "execution_count": 18,
   "metadata": {
    "executionInfo": {
     "elapsed": 620,
     "status": "ok",
     "timestamp": 1625920520939,
     "user": {
      "displayName": "Iliyas Indikar",
      "photoUrl": "https://lh3.googleusercontent.com/a-/AOh14GiE1Qaa6QH2wvA_707yNe7zJEHMYQy94mB_vRQKMQ=s64",
      "userId": "12566401631450445308"
     },
     "user_tz": -330
    },
    "id": "p6jr5LXJL98j"
   },
   "outputs": [],
   "source": [
    "main_dir='/content/drive/MyDrive/ Image_captioning/natural_images'\n",
    "image_count={}\n",
    "for dir in os.listdir(main_dir):\n",
    "  image_count[dir]=len(os.listdir(os.path.join(main_dir,dir)))"
   ]
  },
  {
   "cell_type": "code",
   "execution_count": 19,
   "metadata": {
    "colab": {
     "base_uri": "https://localhost:8080/"
    },
    "executionInfo": {
     "elapsed": 5,
     "status": "ok",
     "timestamp": 1625920522783,
     "user": {
      "displayName": "Iliyas Indikar",
      "photoUrl": "https://lh3.googleusercontent.com/a-/AOh14GiE1Qaa6QH2wvA_707yNe7zJEHMYQy94mB_vRQKMQ=s64",
      "userId": "12566401631450445308"
     },
     "user_tz": -330
    },
    "id": "oqHAipmJM80M",
    "outputId": "c8485c7b-05db-48ed-dbc1-5ce9e2231286"
   },
   "outputs": [
    {
     "data": {
      "text/plain": [
       "{'airplane': 727,\n",
       " 'car': 968,\n",
       " 'cat': 885,\n",
       " 'dog': 702,\n",
       " 'flower': 843,\n",
       " 'fruit': 1000,\n",
       " 'motorbike': 788,\n",
       " 'person': 986}"
      ]
     },
     "execution_count": 19,
     "metadata": {
      "tags": []
     },
     "output_type": "execute_result"
    }
   ],
   "source": [
    "image_count"
   ]
  },
  {
   "cell_type": "code",
   "execution_count": 21,
   "metadata": {
    "colab": {
     "base_uri": "https://localhost:8080/",
     "height": 35
    },
    "executionInfo": {
     "elapsed": 382,
     "status": "ok",
     "timestamp": 1625920564816,
     "user": {
      "displayName": "Iliyas Indikar",
      "photoUrl": "https://lh3.googleusercontent.com/a-/AOh14GiE1Qaa6QH2wvA_707yNe7zJEHMYQy94mB_vRQKMQ=s64",
      "userId": "12566401631450445308"
     },
     "user_tz": -330
    },
    "id": "hgaSkdrIapFW",
    "outputId": "49d0dc95-3102-44d8-c75b-36d64866fcb9"
   },
   "outputs": [
    {
     "data": {
      "application/vnd.google.colaboratory.intrinsic+json": {
       "type": "string"
      },
      "text/plain": [
       "'/content'"
      ]
     },
     "execution_count": 21,
     "metadata": {
      "tags": []
     },
     "output_type": "execute_result"
    }
   ],
   "source": [
    "os.getcwd()"
   ]
  },
  {
   "cell_type": "code",
   "execution_count": 22,
   "metadata": {
    "executionInfo": {
     "elapsed": 442,
     "status": "ok",
     "timestamp": 1625920707426,
     "user": {
      "displayName": "Iliyas Indikar",
      "photoUrl": "https://lh3.googleusercontent.com/a-/AOh14GiE1Qaa6QH2wvA_707yNe7zJEHMYQy94mB_vRQKMQ=s64",
      "userId": "12566401631450445308"
     },
     "user_tz": -330
    },
    "id": "RvyQ7OgebKvL"
   },
   "outputs": [],
   "source": [
    "os.chdir('/content/drive/MyDrive/ Image_captioning') #change current working directory"
   ]
  },
  {
   "cell_type": "code",
   "execution_count": 24,
   "metadata": {
    "colab": {
     "base_uri": "https://localhost:8080/",
     "height": 35
    },
    "executionInfo": {
     "elapsed": 613,
     "status": "ok",
     "timestamp": 1625920746112,
     "user": {
      "displayName": "Iliyas Indikar",
      "photoUrl": "https://lh3.googleusercontent.com/a-/AOh14GiE1Qaa6QH2wvA_707yNe7zJEHMYQy94mB_vRQKMQ=s64",
      "userId": "12566401631450445308"
     },
     "user_tz": -330
    },
    "id": "xOftCk5VbSDi",
    "outputId": "3a39f45f-5f64-4016-d172-ecbe14cd2d63"
   },
   "outputs": [
    {
     "data": {
      "application/vnd.google.colaboratory.intrinsic+json": {
       "type": "string"
      },
      "text/plain": [
       "'/content/drive/My Drive/ Image_captioning'"
      ]
     },
     "execution_count": 24,
     "metadata": {
      "tags": []
     },
     "output_type": "execute_result"
    }
   ],
   "source": [
    "os.getcwd()"
   ]
  },
  {
   "cell_type": "code",
   "execution_count": 25,
   "metadata": {
    "executionInfo": {
     "elapsed": 377,
     "status": "ok",
     "timestamp": 1625920748437,
     "user": {
      "displayName": "Iliyas Indikar",
      "photoUrl": "https://lh3.googleusercontent.com/a-/AOh14GiE1Qaa6QH2wvA_707yNe7zJEHMYQy94mB_vRQKMQ=s64",
      "userId": "12566401631450445308"
     },
     "user_tz": -330
    },
    "id": "12uXd0lDM95g"
   },
   "outputs": [],
   "source": [
    "#put each image from main directory to train,test and cv directory\n",
    "def data_folder(p,split):\n",
    "  if not os.path.exists(\"./\"+p): #check if directory alredy exists\n",
    "    os.mkdir(\"./\"+p)          #if directory doesnot exists make directory\n",
    "  for dir in os.listdir(main_dir): #from main directories\n",
    "    os.makedirs(\"./\"+p+\"/\"+dir) #make sub directories(ex in train make dog,cat and other directories)\n",
    "    #iterate through all images in main directory and randomly pick specified splits \n",
    "    for image in np.random.choice(a=os.listdir(os.path.join(main_dir,dir)),size=(math.floor(split*image_count[dir])-5),replace=False):\n",
    "      origin      = os.path.join(main_dir,dir,image) #path of main directory\n",
    "      destination = os.path.join(\"./\"+p,dir)  #path of specified directory\n",
    "      shutil.copy(origin,destination) #copy image from main directory to specified directory\n",
    "      os.remove(origin)   #remoe image from image directory \n",
    "  else:\n",
    "    print('folder exists')"
   ]
  },
  {
   "cell_type": "code",
   "execution_count": 26,
   "metadata": {
    "colab": {
     "base_uri": "https://localhost:8080/"
    },
    "executionInfo": {
     "elapsed": 1970840,
     "status": "ok",
     "timestamp": 1625922721469,
     "user": {
      "displayName": "Iliyas Indikar",
      "photoUrl": "https://lh3.googleusercontent.com/a-/AOh14GiE1Qaa6QH2wvA_707yNe7zJEHMYQy94mB_vRQKMQ=s64",
      "userId": "12566401631450445308"
     },
     "user_tz": -330
    },
    "id": "XD5kDQGgRUmS",
    "outputId": "3da092bd-c342-422d-b83c-a2719fdbc763"
   },
   "outputs": [
    {
     "name": "stdout",
     "output_type": "stream",
     "text": [
      "folder exists\n"
     ]
    }
   ],
   "source": [
    "data_folder(\"Train\",0.7)"
   ]
  },
  {
   "cell_type": "code",
   "execution_count": 27,
   "metadata": {
    "colab": {
     "base_uri": "https://localhost:8080/"
    },
    "executionInfo": {
     "elapsed": 745320,
     "status": "ok",
     "timestamp": 1625923466776,
     "user": {
      "displayName": "Iliyas Indikar",
      "photoUrl": "https://lh3.googleusercontent.com/a-/AOh14GiE1Qaa6QH2wvA_707yNe7zJEHMYQy94mB_vRQKMQ=s64",
      "userId": "12566401631450445308"
     },
     "user_tz": -330
    },
    "id": "L5wsUf8qRhd_",
    "outputId": "aa31ee4a-b7b7-48d9-fa35-480ec7c4cbd0"
   },
   "outputs": [
    {
     "name": "stdout",
     "output_type": "stream",
     "text": [
      "folder exists\n"
     ]
    }
   ],
   "source": [
    "data_folder(\"Test\",0.15)"
   ]
  },
  {
   "cell_type": "code",
   "execution_count": 28,
   "metadata": {
    "colab": {
     "base_uri": "https://localhost:8080/"
    },
    "executionInfo": {
     "elapsed": 810153,
     "status": "ok",
     "timestamp": 1625924276923,
     "user": {
      "displayName": "Iliyas Indikar",
      "photoUrl": "https://lh3.googleusercontent.com/a-/AOh14GiE1Qaa6QH2wvA_707yNe7zJEHMYQy94mB_vRQKMQ=s64",
      "userId": "12566401631450445308"
     },
     "user_tz": -330
    },
    "id": "J6-QctxXRvpW",
    "outputId": "61eea3c5-7984-4b5b-f09d-1875693c4a69"
   },
   "outputs": [
    {
     "name": "stdout",
     "output_type": "stream",
     "text": [
      "folder exists\n"
     ]
    }
   ],
   "source": [
    "data_folder(\"Cv\",0.15)"
   ]
  },
  {
   "cell_type": "code",
   "execution_count": 33,
   "metadata": {
    "executionInfo": {
     "elapsed": 643,
     "status": "ok",
     "timestamp": 1625924362250,
     "user": {
      "displayName": "Iliyas Indikar",
      "photoUrl": "https://lh3.googleusercontent.com/a-/AOh14GiE1Qaa6QH2wvA_707yNe7zJEHMYQy94mB_vRQKMQ=s64",
      "userId": "12566401631450445308"
     },
     "user_tz": -330
    },
    "id": "bePjsbYCR7ud"
   },
   "outputs": [],
   "source": [
    "def folder_image_count(path):\n",
    "  main_dir='/content/drive/MyDrive/ Image_captioning/'+path\n",
    "  d={}\n",
    "  for dir in os.listdir(main_dir):\n",
    "    d[dir]=len(os.listdir(os.path.join(main_dir,dir)))\n",
    "  return d"
   ]
  },
  {
   "cell_type": "code",
   "execution_count": 38,
   "metadata": {
    "colab": {
     "base_uri": "https://localhost:8080/"
    },
    "executionInfo": {
     "elapsed": 634,
     "status": "ok",
     "timestamp": 1625924463931,
     "user": {
      "displayName": "Iliyas Indikar",
      "photoUrl": "https://lh3.googleusercontent.com/a-/AOh14GiE1Qaa6QH2wvA_707yNe7zJEHMYQy94mB_vRQKMQ=s64",
      "userId": "12566401631450445308"
     },
     "user_tz": -330
    },
    "id": "DYT5S67VJJI4",
    "outputId": "67d681ae-f92b-4f5b-e02f-c08d17f55ef6"
   },
   "outputs": [
    {
     "data": {
      "text/plain": [
       "{'airplane': 503,\n",
       " 'car': 672,\n",
       " 'cat': 614,\n",
       " 'dog': 486,\n",
       " 'flower': 585,\n",
       " 'fruit': 695,\n",
       " 'motorbike': 546,\n",
       " 'person': 685}"
      ]
     },
     "execution_count": 38,
     "metadata": {
      "tags": []
     },
     "output_type": "execute_result"
    }
   ],
   "source": [
    "train_image_count=folder_image_count('Train')\n",
    "train_image_count"
   ]
  },
  {
   "cell_type": "code",
   "execution_count": 31,
   "metadata": {
    "colab": {
     "base_uri": "https://localhost:8080/"
    },
    "executionInfo": {
     "elapsed": 17,
     "status": "ok",
     "timestamp": 1625924276927,
     "user": {
      "displayName": "Iliyas Indikar",
      "photoUrl": "https://lh3.googleusercontent.com/a-/AOh14GiE1Qaa6QH2wvA_707yNe7zJEHMYQy94mB_vRQKMQ=s64",
      "userId": "12566401631450445308"
     },
     "user_tz": -330
    },
    "id": "zB_cD2ygJeb4",
    "outputId": "10a9db95-3622-48f9-c26f-15eba3694e4e"
   },
   "outputs": [
    {
     "data": {
      "text/plain": [
       "{'airplane': 104,\n",
       " 'car': 140,\n",
       " 'cat': 127,\n",
       " 'dog': 100,\n",
       " 'flower': 121,\n",
       " 'fruit': 145,\n",
       " 'motorbike': 113,\n",
       " 'person': 142}"
      ]
     },
     "execution_count": 31,
     "metadata": {
      "tags": []
     },
     "output_type": "execute_result"
    }
   ],
   "source": [
    "test_image_count=folder_image_count('Test')\n",
    "test_image_count"
   ]
  },
  {
   "cell_type": "code",
   "execution_count": 32,
   "metadata": {
    "colab": {
     "base_uri": "https://localhost:8080/"
    },
    "executionInfo": {
     "elapsed": 15,
     "status": "ok",
     "timestamp": 1625924276928,
     "user": {
      "displayName": "Iliyas Indikar",
      "photoUrl": "https://lh3.googleusercontent.com/a-/AOh14GiE1Qaa6QH2wvA_707yNe7zJEHMYQy94mB_vRQKMQ=s64",
      "userId": "12566401631450445308"
     },
     "user_tz": -330
    },
    "id": "Oq_fc-xKPLfc",
    "outputId": "9210368b-d204-4536-d102-f0ce37c7c3ad"
   },
   "outputs": [
    {
     "data": {
      "text/plain": [
       "{'airplane': 104,\n",
       " 'car': 140,\n",
       " 'cat': 127,\n",
       " 'dog': 100,\n",
       " 'flower': 121,\n",
       " 'fruit': 145,\n",
       " 'motorbike': 113,\n",
       " 'person': 142}"
      ]
     },
     "execution_count": 32,
     "metadata": {
      "tags": []
     },
     "output_type": "execute_result"
    }
   ],
   "source": [
    "cv_image_count=folder_image_count('Cv')\n",
    "cv_image_count"
   ]
  },
  {
   "cell_type": "code",
   "execution_count": null,
   "metadata": {
    "id": "OGGprmm3R0xE"
   },
   "outputs": [],
   "source": []
  }
 ],
 "metadata": {
  "colab": {
   "authorship_tag": "ABX9TyNYbAyq0aIY+k3SRNzHR5Qm",
   "collapsed_sections": [],
   "name": "Untitled0.ipynb",
   "provenance": []
  },
  "kernelspec": {
   "display_name": "Python 3",
   "language": "python",
   "name": "python3"
  },
  "language_info": {
   "codemirror_mode": {
    "name": "ipython",
    "version": 3
   },
   "file_extension": ".py",
   "mimetype": "text/x-python",
   "name": "python",
   "nbconvert_exporter": "python",
   "pygments_lexer": "ipython3",
   "version": "3.7.3"
  }
 },
 "nbformat": 4,
 "nbformat_minor": 1
}
